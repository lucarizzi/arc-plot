{
 "cells": [
  {
   "cell_type": "code",
   "execution_count": 4,
   "metadata": {
    "collapsed": true
   },
   "outputs": [],
   "source": [
    "import pandas as pd\n",
    "import matplotlib.pyplot as plt\n",
    "import numpy as np\n",
    "from scipy.ndimage.filters import gaussian_filter\n",
    "from __future__ import print_function\n",
    "from ipywidgets import interact, interactive, fixed, interact_manual\n",
    "import ipywidgets as widgets\n",
    "import os\n"
   ]
  },
  {
   "cell_type": "code",
   "execution_count": 5,
   "metadata": {
    "collapsed": true
   },
   "outputs": [],
   "source": [
    "lampList = {\n",
    "    \"lamp1\" : {\n",
    "        \"file\" : \"lamp1.dat\",\n",
    "        \"name\" : \"He\"\n",
    "    },\n",
    "    \"lamp2\" : {\n",
    "        \"file\" : \"lamp2.dat\",\n",
    "        \"name\" : \"Ar\"\n",
    "    }\n",
    "}\n",
    "\n",
    "directory = \"arcplots\"\n",
    "\n",
    "sides = [\"red\",\"blue\"]\n",
    "\n",
    "gratings = {\n",
    "    \"150/7500\": {\n",
    "        \"dispersion\": 3,\n",
    "        \"range\":12288\n",
    "    },\n",
    "    \"300/500\": {\n",
    "        \"dispersion\": 1.59,\n",
    "        \"range\":6525\n",
    "    },\n",
    "    \"400/8500\": {\n",
    "        \"dispersion\": 1.16,\n",
    "        \"range\": 4762\n",
    "    },\n",
    "    \"600/7500\": {\n",
    "        \"dispersion\": 0.80,\n",
    "        \"range\": 3275\n",
    "    },\n",
    "    \"600/5000\": {\n",
    "        \"dispersion\": 0.80,\n",
    "        \"range\": 3275\n",
    "    },\n",
    "    \"600/1000\": {\n",
    "        \"dispersion\": 0.80,\n",
    "        \"range\":3275\n",
    "    },\n",
    "    \"831/8200\": {\n",
    "        \"dispersion\": 0.58,\n",
    "        \"range\": 2375\n",
    "    }\n",
    "}\n",
    "\n",
    "\n",
    "for key in lampList.keys():\n",
    "    file = os.path.join(directory,lampList[key][\"file\"])\n",
    "    df = pd.read_csv(file,delim_whitespace=True)\n",
    "    df.columns=['lambda','intensity']\n",
    "    lampList[key][\"lines\"] = df\n",
    "\n",
    "    "
   ]
  },
  {
   "cell_type": "code",
   "execution_count": null,
   "metadata": {},
   "outputs": [],
   "source": [
    "@interact_manual(grating = gratings.keys(),central_wavelength=(3000,9000,2),use_lamp1=True, use_lamp2=True)\n",
    "def arcplot(grating,central_wavelength, use_lamp1,use_lamp2):    \n",
    "    sigma = gratings[grating][\"dispersion\"]\n",
    "    range = gratings[grating][\"range\"]\n",
    "    xlim_low = central_wavelength-range/2\n",
    "    xlim_high = central_wavelength+range/2\n",
    "    if use_lamp1:\n",
    "        x=lampList['lamp1']['lines']['lambda']\n",
    "        y=gaussian_filter(lampList['lamp1']['lines']['intensity'],sigma=sigma)\n",
    "        plt.plot(x,y)\n",
    "    if use_lamp2:\n",
    "        x=lampList['lamp2']['lines']['lambda']\n",
    "        y=gaussian_filter(lampList['lamp2']['lines']['intensity'],sigma=sigma)\n",
    "        plt.plot(x,y)\n",
    "    plt.xlim([xlim_low,xlim_high])\n",
    "    plt.show()      \n",
    "    \n"
   ]
  },
  {
   "cell_type": "code",
   "execution_count": 17,
   "metadata": {},
   "outputs": [],
   "source": [
    "from bokeh.plotting import figure, output_file, show\n",
    "from bokeh.models import Range1d, HoverTool\n",
    "\n",
    "from bokeh.layouts import widgetbox, layout\n",
    "from bokeh.models.widgets import Button, RadioButtonGroup, Select, Slider\n",
    "\n",
    "\n"
   ]
  },
  {
   "cell_type": "code",
   "execution_count": 6,
   "metadata": {},
   "outputs": [],
   "source": [
    "output_file(\"line.html\")\n",
    "hover = HoverTool(tooltips=[\n",
    "    (\"lambda\", \"$x{00000.0}\"),\n",
    "])\n",
    "\n",
    "p = figure(plot_width=600, plot_height=400)\n",
    "p.add_tools(hover)"
   ]
  },
  {
   "cell_type": "code",
   "execution_count": 7,
   "metadata": {},
   "outputs": [],
   "source": [
    "x1=lampList['lamp1']['lines']['lambda']\n",
    "y1=gaussian_filter(lampList['lamp1']['lines']['intensity'],sigma=4)\n",
    "x2=lampList['lamp2']['lines']['lambda']\n",
    "y2=gaussian_filter(lampList['lamp2']['lines']['intensity'],sigma=4)\n"
   ]
  },
  {
   "cell_type": "code",
   "execution_count": 8,
   "metadata": {},
   "outputs": [],
   "source": [
    "p.line(x1,y1, color='firebrick', legend=lampList['lamp1']['name'])\n",
    "p.line(x2,y2,color='navy', legend=lampList['lamp2']['name'])\n",
    "central_wavelength=7500\n",
    "range = gratings[\"600/1000\"][\"range\"]\n",
    "xlim_low = central_wavelength-range/2\n",
    "xlim_high = central_wavelength+range/2\n",
    "p.x_range=Range1d(xlim_low, xlim_high)"
   ]
  },
  {
   "cell_type": "code",
   "execution_count": 9,
   "metadata": {
    "collapsed": true
   },
   "outputs": [],
   "source": [
    "p.title.text = \"LRIS Arcplot\"\n",
    "p.title.align = \"right\"\n",
    "p.title.text_color = \"orange\"\n",
    "p.title.text_font_size = \"25px\""
   ]
  },
  {
   "cell_type": "code",
   "execution_count": 10,
   "metadata": {
    "collapsed": true
   },
   "outputs": [],
   "source": [
    "p.background_fill_color = \"beige\"\n",
    "p.background_fill_alpha = 0.5"
   ]
  },
  {
   "cell_type": "code",
   "execution_count": 11,
   "metadata": {
    "collapsed": true
   },
   "outputs": [],
   "source": [
    "p.xaxis.axis_label = \"Wavelength\"\n",
    "p.yaxis.axis_label = \"Intensity\"\n"
   ]
  },
  {
   "cell_type": "code",
   "execution_count": 12,
   "metadata": {},
   "outputs": [],
   "source": [
    "p.legend.click_policy=\"hide\"\n"
   ]
  },
  {
   "cell_type": "code",
   "execution_count": 15,
   "metadata": {},
   "outputs": [],
   "source": [
    "slider = Slider(start=0, end=10, value=1, step=.1, title=\"Slider\")\n",
    "button_group = RadioButtonGroup(labels=[\"Option 1\", \"Option 2\", \"Option 3\"], active=0)\n",
    "select = Select(title=\"Option:\", value=\"foo\", options=[\"foo\", \"bar\", \"baz\", \"quux\"])\n",
    "button_1 = Button(label=\"Button 1\")\n",
    "button_2 = Button(label=\"Button 2\")"
   ]
  },
  {
   "cell_type": "code",
   "execution_count": 18,
   "metadata": {},
   "outputs": [],
   "source": [
    "l = layout([\n",
    "  [button_group],\n",
    "  [select],\n",
    "  [p],\n",
    "], sizing_mode='stretch_both')"
   ]
  },
  {
   "cell_type": "code",
   "execution_count": 20,
   "metadata": {},
   "outputs": [],
   "source": [
    "show(p)"
   ]
  },
  {
   "cell_type": "code",
   "execution_count": null,
   "metadata": {},
   "outputs": [],
   "source": [
    "show(widgetbox(p,button_1, slider, button_group, select, button_2, width=300))"
   ]
  },
  {
   "cell_type": "code",
   "execution_count": 19,
   "metadata": {
    "collapsed": true
   },
   "outputs": [],
   "source": [
    "show(l)"
   ]
  },
  {
   "cell_type": "code",
   "execution_count": null,
   "metadata": {},
   "outputs": [],
   "source": [
    "p.multi_line([[1, 3, 2], [3, 4, 6, 6]], [[2, 1, 4], [4, 7, 8, 5]],\n",
    "             color=[\"firebrick\", \"navy\"], alpha=[0.8, 0.3], line_width=4)"
   ]
  },
  {
   "cell_type": "code",
   "execution_count": null,
   "metadata": {
    "collapsed": true
   },
   "outputs": [],
   "source": [
    "show(p)"
   ]
  },
  {
   "cell_type": "code",
   "execution_count": 21,
   "metadata": {
    "collapsed": true
   },
   "outputs": [],
   "source": [
    "output_file(\"layout_widgets.html\")\n",
    "\n",
    "# create some widgets\n",
    "slider = Slider(start=0, end=10, value=1, step=.1, title=\"Slider\")\n",
    "button_group = RadioButtonGroup(labels=[\"Option 1\", \"Option 2\", \"Option 3\"], active=0)\n",
    "select = Select(title=\"Option:\", value=\"foo\", options=[\"foo\", \"bar\", \"baz\", \"quux\"])\n",
    "button_1 = Button(label=\"Button 1\")\n",
    "button_2 = Button(label=\"Button 2\")\n",
    "\n",
    "# put the results in a row\n",
    "show(widgetbox(button_1, slider, button_group, select, button_2, width=300))"
   ]
  },
  {
   "cell_type": "code",
   "execution_count": null,
   "metadata": {
    "collapsed": true
   },
   "outputs": [],
   "source": []
  }
 ],
 "metadata": {
  "kernelspec": {
   "display_name": "Python 3",
   "language": "python",
   "name": "python3"
  },
  "language_info": {
   "codemirror_mode": {
    "name": "ipython",
    "version": 3
   },
   "file_extension": ".py",
   "mimetype": "text/x-python",
   "name": "python",
   "nbconvert_exporter": "python",
   "pygments_lexer": "ipython3",
   "version": "3.6.1"
  }
 },
 "nbformat": 4,
 "nbformat_minor": 2
}
